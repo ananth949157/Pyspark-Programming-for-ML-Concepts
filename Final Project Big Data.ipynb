{
 "cells": [
  {
   "cell_type": "markdown",
   "id": "36596368-3245-4783-ba07-36efd9a85271",
   "metadata": {},
   "source": [
    "## Final Project\n",
    "\n",
    "Satisfaction Prediction of Airline Passengers"
   ]
  },
  {
   "cell_type": "markdown",
   "id": "b11fc310-52ba-40fd-a5b4-e10fa074bdfe",
   "metadata": {},
   "source": [
    "## Team Elite:\n",
    "\n",
    "Anantha Sai Ram Padala\n",
    "\n",
    "Ashish Miyapuram\n",
    "\n",
    "Jayachandra Yedlapalli"
   ]
  },
  {
   "cell_type": "markdown",
   "id": "67e69e13-087a-49cc-af2a-34d8ef6a1b1a",
   "metadata": {},
   "source": [
    "## Description:\n",
    "\n",
    "In this project, we aim to develop a machine learning model that can accurately classify the satisfaction of air passengers based on their reviews. With the increasing use of online platforms for booking flights and sharing travel experiences, it has become crucial for airlines to understand and analyze customer feedback to improve their services.\n",
    "\n",
    "We have collected a dataset of customer reviews from various airlines and will pre-process the data by removing noise and irrelevant information. The pre-processed data will be used to develop a classification model using different techniques such as Decision Trees, Random Forest, Support Vector Machines, Naive Bayes, Gradient Boosted Trees and Logistic Regression."
   ]
  },
  {
   "cell_type": "markdown",
   "id": "67045837-31e5-44aa-b77b-5a7eb5d7d3ed",
   "metadata": {},
   "source": [
    "## Process:"
   ]
  },
  {
   "cell_type": "code",
   "execution_count": 1,
   "id": "a3384489-9f5e-42c3-87e4-941ad8cf7db3",
   "metadata": {},
   "outputs": [],
   "source": [
    "#Required Imports:\n",
    "import findspark`\n",
    "from pyspark.sql import SparkSession"
   ]
  },
  {
   "cell_type": "code",
   "execution_count": 2,
   "id": "a98cc153-58f7-42d9-a1d7-de74eb12c5f0",
   "metadata": {},
   "outputs": [
    {
     "name": "stderr",
     "output_type": "stream",
     "text": [
      "Setting default log level to \"WARN\".\n",
      "To adjust logging level use sc.setLogLevel(newLevel). For SparkR, use setLogLevel(newLevel).\n",
      "23/04/29 09:21:42 WARN NativeCodeLoader: Unable to load native-hadoop library for your platform... using builtin-java classes where applicable\n"
     ]
    }
   ],
   "source": [
    "# create a SparkSession\n",
    "spark = SparkSession.builder.appName(\"ImportData\").getOrCreate()"
   ]
  },
  {
   "cell_type": "code",
   "execution_count": 3,
   "id": "4d1a765d-2a85-478c-9e69-223039de330b",
   "metadata": {},
   "outputs": [
    {
     "name": "stdout",
     "output_type": "stream",
     "text": [
      "+---+------+------+-----------------+---+---------------+--------+---------------+---------------------+---------------------------------+----------------------+-------------+--------------+---------------+------------+----------------------+----------------+----------------+----------------+---------------+----------------+-----------+--------------------------+------------------------+--------------------+\n",
      "|_c0|    id|Gender|    Customer Type|Age| Type of Travel|   Class|Flight Distance|Inflight wifi service|Departure/Arrival time convenient|Ease of Online booking|Gate location|Food and drink|Online boarding|Seat comfort|Inflight entertainment|On-board service|Leg room service|Baggage handling|Checkin service|Inflight service|Cleanliness|Departure Delay in Minutes|Arrival Delay in Minutes|        satisfaction|\n",
      "+---+------+------+-----------------+---+---------------+--------+---------------+---------------------+---------------------------------+----------------------+-------------+--------------+---------------+------------+----------------------+----------------+----------------+----------------+---------------+----------------+-----------+--------------------------+------------------------+--------------------+\n",
      "|  0| 70172|  Male|   Loyal Customer| 13|Personal Travel|Eco Plus|            460|                    3|                                4|                     3|            1|             5|              3|           5|                     5|               4|               3|               4|              4|               5|          5|                        25|                    18.0|neutral or dissat...|\n",
      "|  1|  5047|  Male|disloyal Customer| 25|Business travel|Business|            235|                    3|                                2|                     3|            3|             1|              3|           1|                     1|               1|               5|               3|              1|               4|          1|                         1|                     6.0|neutral or dissat...|\n",
      "|  2|110028|Female|   Loyal Customer| 26|Business travel|Business|           1142|                    2|                                2|                     2|            2|             5|              5|           5|                     5|               4|               3|               4|              4|               4|          5|                         0|                     0.0|           satisfied|\n",
      "|  3| 24026|Female|   Loyal Customer| 25|Business travel|Business|            562|                    2|                                5|                     5|            5|             2|              2|           2|                     2|               2|               5|               3|              1|               4|          2|                        11|                     9.0|neutral or dissat...|\n",
      "|  4|119299|  Male|   Loyal Customer| 61|Business travel|Business|            214|                    3|                                3|                     3|            3|             4|              5|           5|                     3|               3|               4|               4|              3|               3|          3|                         0|                     0.0|           satisfied|\n",
      "|  5|111157|Female|   Loyal Customer| 26|Personal Travel|     Eco|           1180|                    3|                                4|                     2|            1|             1|              2|           1|                     1|               3|               4|               4|              4|               4|          1|                         0|                     0.0|neutral or dissat...|\n",
      "|  6| 82113|  Male|   Loyal Customer| 47|Personal Travel|     Eco|           1276|                    2|                                4|                     2|            3|             2|              2|           2|                     2|               3|               3|               4|              3|               5|          2|                         9|                    23.0|neutral or dissat...|\n",
      "|  7| 96462|Female|   Loyal Customer| 52|Business travel|Business|           2035|                    4|                                3|                     4|            4|             5|              5|           5|                     5|               5|               5|               5|              4|               5|          4|                         4|                     0.0|           satisfied|\n",
      "|  8| 79485|Female|   Loyal Customer| 41|Business travel|Business|            853|                    1|                                2|                     2|            2|             4|              3|           3|                     1|               1|               2|               1|              4|               1|          2|                         0|                     0.0|neutral or dissat...|\n",
      "|  9| 65725|  Male|disloyal Customer| 20|Business travel|     Eco|           1061|                    3|                                3|                     3|            4|             2|              3|           3|                     2|               2|               3|               4|              4|               3|          2|                         0|                     0.0|neutral or dissat...|\n",
      "| 10| 34991|Female|disloyal Customer| 24|Business travel|     Eco|           1182|                    4|                                5|                     5|            4|             2|              5|           2|                     2|               3|               3|               5|              3|               5|          2|                         0|                     0.0|neutral or dissat...|\n",
      "| 11| 51412|Female|   Loyal Customer| 12|Personal Travel|Eco Plus|            308|                    2|                                4|                     2|            2|             1|              2|           1|                     1|               1|               2|               5|              5|               5|          1|                         0|                     0.0|neutral or dissat...|\n",
      "| 12| 98628|  Male|   Loyal Customer| 53|Business travel|     Eco|            834|                    1|                                4|                     4|            4|             1|              1|           1|                     1|               1|               1|               3|              4|               4|          1|                        28|                     8.0|neutral or dissat...|\n",
      "| 13| 83502|  Male|   Loyal Customer| 33|Personal Travel|     Eco|            946|                    4|                                2|                     4|            3|             4|              4|           4|                     4|               4|               5|               2|              2|               2|          4|                         0|                     0.0|           satisfied|\n",
      "| 14| 95789|Female|   Loyal Customer| 26|Personal Travel|     Eco|            453|                    3|                                2|                     3|            2|             2|              3|           2|                     2|               4|               3|               2|              2|               1|          2|                        43|                    35.0|neutral or dissat...|\n",
      "| 15|100580|  Male|disloyal Customer| 13|Business travel|     Eco|            486|                    2|                                1|                     2|            3|             4|              2|           1|                     4|               2|               1|               4|              1|               3|          4|                         1|                     0.0|neutral or dissat...|\n",
      "| 16| 71142|Female|   Loyal Customer| 26|Business travel|Business|           2123|                    3|                                3|                     3|            3|             4|              4|           4|                     4|               5|               3|               4|              5|               4|          4|                        49|                    51.0|           satisfied|\n",
      "| 17|127461|  Male|   Loyal Customer| 41|Business travel|Business|           2075|                    4|                                4|                     2|            4|             4|              4|           4|                     5|               5|               5|               5|              3|               5|          5|                         0|                    10.0|           satisfied|\n",
      "| 18| 70354|Female|   Loyal Customer| 45|Business travel|Business|           2486|                    4|                                4|                     4|            4|             3|              4|           5|                     5|               5|               5|               5|              3|               5|          4|                         7|                     5.0|           satisfied|\n",
      "| 19| 66246|  Male|   Loyal Customer| 38|Personal Travel|     Eco|            460|                    2|                                3|                     3|            2|             5|              3|           5|                     5|               1|               2|               4|              3|               2|          5|                        17|                    18.0|neutral or dissat...|\n",
      "+---+------+------+-----------------+---+---------------+--------+---------------+---------------------+---------------------------------+----------------------+-------------+--------------+---------------+------------+----------------------+----------------+----------------+----------------+---------------+----------------+-----------+--------------------------+------------------------+--------------------+\n",
      "only showing top 20 rows\n",
      "\n"
     ]
    },
    {
     "name": "stderr",
     "output_type": "stream",
     "text": [
      "23/04/29 09:21:50 WARN CSVHeaderChecker: CSV header does not conform to the schema.\n",
      " Header: , id, Gender, Customer Type, Age, Type of Travel, Class, Flight Distance, Inflight wifi service, Departure/Arrival time convenient, Ease of Online booking, Gate location, Food and drink, Online boarding, Seat comfort, Inflight entertainment, On-board service, Leg room service, Baggage handling, Checkin service, Inflight service, Cleanliness, Departure Delay in Minutes, Arrival Delay in Minutes, satisfaction\n",
      " Schema: _c0, id, Gender, Customer Type, Age, Type of Travel, Class, Flight Distance, Inflight wifi service, Departure/Arrival time convenient, Ease of Online booking, Gate location, Food and drink, Online boarding, Seat comfort, Inflight entertainment, On-board service, Leg room service, Baggage handling, Checkin service, Inflight service, Cleanliness, Departure Delay in Minutes, Arrival Delay in Minutes, satisfaction\n",
      "Expected: _c0 but found: \n",
      "CSV file: file:///Users/ananthpadala/Downloads/train.csv\n"
     ]
    }
   ],
   "source": [
    "#We will import the train.csv as df which will act as a SparkDataFrame\n",
    "df = spark.read.csv(\"train.csv\", header=True, inferSchema=True)\n",
    "\n",
    "# display the contents of the DataFrame\n",
    "df.show()"
   ]
  },
  {
   "cell_type": "markdown",
   "id": "68ac42cf-5f10-4d40-ad1c-2a6e5aaf27eb",
   "metadata": {},
   "source": [
    "We can see that Data is displayed in a clumsy manner. We can convert this into a Pandas DataFrame and display the output which would be in a clear and well structered manner. "
   ]
  },
  {
   "cell_type": "code",
   "execution_count": 4,
   "id": "552b9d03-d573-4267-a172-d1acdf552620",
   "metadata": {},
   "outputs": [
    {
     "name": "stderr",
     "output_type": "stream",
     "text": [
      "23/04/29 09:21:57 WARN CSVHeaderChecker: CSV header does not conform to the schema.\n",
      " Header: , id, Gender, Customer Type, Age, Type of Travel, Class, Flight Distance, Inflight wifi service, Departure/Arrival time convenient, Ease of Online booking, Gate location, Food and drink, Online boarding, Seat comfort, Inflight entertainment, On-board service, Leg room service, Baggage handling, Checkin service, Inflight service, Cleanliness, Departure Delay in Minutes, Arrival Delay in Minutes, satisfaction\n",
      " Schema: _c0, id, Gender, Customer Type, Age, Type of Travel, Class, Flight Distance, Inflight wifi service, Departure/Arrival time convenient, Ease of Online booking, Gate location, Food and drink, Online boarding, Seat comfort, Inflight entertainment, On-board service, Leg room service, Baggage handling, Checkin service, Inflight service, Cleanliness, Departure Delay in Minutes, Arrival Delay in Minutes, satisfaction\n",
      "Expected: _c0 but found: \n",
      "CSV file: file:///Users/ananthpadala/Downloads/train.csv\n"
     ]
    },
    {
     "data": {
      "text/html": [
       "<div>\n",
       "<style scoped>\n",
       "    .dataframe tbody tr th:only-of-type {\n",
       "        vertical-align: middle;\n",
       "    }\n",
       "\n",
       "    .dataframe tbody tr th {\n",
       "        vertical-align: top;\n",
       "    }\n",
       "\n",
       "    .dataframe thead th {\n",
       "        text-align: right;\n",
       "    }\n",
       "</style>\n",
       "<table border=\"1\" class=\"dataframe\">\n",
       "  <thead>\n",
       "    <tr style=\"text-align: right;\">\n",
       "      <th></th>\n",
       "      <th>_c0</th>\n",
       "      <th>id</th>\n",
       "      <th>Gender</th>\n",
       "      <th>Customer Type</th>\n",
       "      <th>Age</th>\n",
       "      <th>Type of Travel</th>\n",
       "      <th>Class</th>\n",
       "      <th>Flight Distance</th>\n",
       "      <th>Inflight wifi service</th>\n",
       "      <th>Departure/Arrival time convenient</th>\n",
       "      <th>...</th>\n",
       "      <th>Inflight entertainment</th>\n",
       "      <th>On-board service</th>\n",
       "      <th>Leg room service</th>\n",
       "      <th>Baggage handling</th>\n",
       "      <th>Checkin service</th>\n",
       "      <th>Inflight service</th>\n",
       "      <th>Cleanliness</th>\n",
       "      <th>Departure Delay in Minutes</th>\n",
       "      <th>Arrival Delay in Minutes</th>\n",
       "      <th>satisfaction</th>\n",
       "    </tr>\n",
       "  </thead>\n",
       "  <tbody>\n",
       "    <tr>\n",
       "      <th>0</th>\n",
       "      <td>0</td>\n",
       "      <td>70172</td>\n",
       "      <td>Male</td>\n",
       "      <td>Loyal Customer</td>\n",
       "      <td>13</td>\n",
       "      <td>Personal Travel</td>\n",
       "      <td>Eco Plus</td>\n",
       "      <td>460</td>\n",
       "      <td>3</td>\n",
       "      <td>4</td>\n",
       "      <td>...</td>\n",
       "      <td>5</td>\n",
       "      <td>4</td>\n",
       "      <td>3</td>\n",
       "      <td>4</td>\n",
       "      <td>4</td>\n",
       "      <td>5</td>\n",
       "      <td>5</td>\n",
       "      <td>25</td>\n",
       "      <td>18.0</td>\n",
       "      <td>neutral or dissatisfied</td>\n",
       "    </tr>\n",
       "    <tr>\n",
       "      <th>1</th>\n",
       "      <td>1</td>\n",
       "      <td>5047</td>\n",
       "      <td>Male</td>\n",
       "      <td>disloyal Customer</td>\n",
       "      <td>25</td>\n",
       "      <td>Business travel</td>\n",
       "      <td>Business</td>\n",
       "      <td>235</td>\n",
       "      <td>3</td>\n",
       "      <td>2</td>\n",
       "      <td>...</td>\n",
       "      <td>1</td>\n",
       "      <td>1</td>\n",
       "      <td>5</td>\n",
       "      <td>3</td>\n",
       "      <td>1</td>\n",
       "      <td>4</td>\n",
       "      <td>1</td>\n",
       "      <td>1</td>\n",
       "      <td>6.0</td>\n",
       "      <td>neutral or dissatisfied</td>\n",
       "    </tr>\n",
       "    <tr>\n",
       "      <th>2</th>\n",
       "      <td>2</td>\n",
       "      <td>110028</td>\n",
       "      <td>Female</td>\n",
       "      <td>Loyal Customer</td>\n",
       "      <td>26</td>\n",
       "      <td>Business travel</td>\n",
       "      <td>Business</td>\n",
       "      <td>1142</td>\n",
       "      <td>2</td>\n",
       "      <td>2</td>\n",
       "      <td>...</td>\n",
       "      <td>5</td>\n",
       "      <td>4</td>\n",
       "      <td>3</td>\n",
       "      <td>4</td>\n",
       "      <td>4</td>\n",
       "      <td>4</td>\n",
       "      <td>5</td>\n",
       "      <td>0</td>\n",
       "      <td>0.0</td>\n",
       "      <td>satisfied</td>\n",
       "    </tr>\n",
       "    <tr>\n",
       "      <th>3</th>\n",
       "      <td>3</td>\n",
       "      <td>24026</td>\n",
       "      <td>Female</td>\n",
       "      <td>Loyal Customer</td>\n",
       "      <td>25</td>\n",
       "      <td>Business travel</td>\n",
       "      <td>Business</td>\n",
       "      <td>562</td>\n",
       "      <td>2</td>\n",
       "      <td>5</td>\n",
       "      <td>...</td>\n",
       "      <td>2</td>\n",
       "      <td>2</td>\n",
       "      <td>5</td>\n",
       "      <td>3</td>\n",
       "      <td>1</td>\n",
       "      <td>4</td>\n",
       "      <td>2</td>\n",
       "      <td>11</td>\n",
       "      <td>9.0</td>\n",
       "      <td>neutral or dissatisfied</td>\n",
       "    </tr>\n",
       "    <tr>\n",
       "      <th>4</th>\n",
       "      <td>4</td>\n",
       "      <td>119299</td>\n",
       "      <td>Male</td>\n",
       "      <td>Loyal Customer</td>\n",
       "      <td>61</td>\n",
       "      <td>Business travel</td>\n",
       "      <td>Business</td>\n",
       "      <td>214</td>\n",
       "      <td>3</td>\n",
       "      <td>3</td>\n",
       "      <td>...</td>\n",
       "      <td>3</td>\n",
       "      <td>3</td>\n",
       "      <td>4</td>\n",
       "      <td>4</td>\n",
       "      <td>3</td>\n",
       "      <td>3</td>\n",
       "      <td>3</td>\n",
       "      <td>0</td>\n",
       "      <td>0.0</td>\n",
       "      <td>satisfied</td>\n",
       "    </tr>\n",
       "    <tr>\n",
       "      <th>...</th>\n",
       "      <td>...</td>\n",
       "      <td>...</td>\n",
       "      <td>...</td>\n",
       "      <td>...</td>\n",
       "      <td>...</td>\n",
       "      <td>...</td>\n",
       "      <td>...</td>\n",
       "      <td>...</td>\n",
       "      <td>...</td>\n",
       "      <td>...</td>\n",
       "      <td>...</td>\n",
       "      <td>...</td>\n",
       "      <td>...</td>\n",
       "      <td>...</td>\n",
       "      <td>...</td>\n",
       "      <td>...</td>\n",
       "      <td>...</td>\n",
       "      <td>...</td>\n",
       "      <td>...</td>\n",
       "      <td>...</td>\n",
       "      <td>...</td>\n",
       "    </tr>\n",
       "    <tr>\n",
       "      <th>103899</th>\n",
       "      <td>103899</td>\n",
       "      <td>94171</td>\n",
       "      <td>Female</td>\n",
       "      <td>disloyal Customer</td>\n",
       "      <td>23</td>\n",
       "      <td>Business travel</td>\n",
       "      <td>Eco</td>\n",
       "      <td>192</td>\n",
       "      <td>2</td>\n",
       "      <td>1</td>\n",
       "      <td>...</td>\n",
       "      <td>2</td>\n",
       "      <td>3</td>\n",
       "      <td>1</td>\n",
       "      <td>4</td>\n",
       "      <td>2</td>\n",
       "      <td>3</td>\n",
       "      <td>2</td>\n",
       "      <td>3</td>\n",
       "      <td>0.0</td>\n",
       "      <td>neutral or dissatisfied</td>\n",
       "    </tr>\n",
       "    <tr>\n",
       "      <th>103900</th>\n",
       "      <td>103900</td>\n",
       "      <td>73097</td>\n",
       "      <td>Male</td>\n",
       "      <td>Loyal Customer</td>\n",
       "      <td>49</td>\n",
       "      <td>Business travel</td>\n",
       "      <td>Business</td>\n",
       "      <td>2347</td>\n",
       "      <td>4</td>\n",
       "      <td>4</td>\n",
       "      <td>...</td>\n",
       "      <td>5</td>\n",
       "      <td>5</td>\n",
       "      <td>5</td>\n",
       "      <td>5</td>\n",
       "      <td>5</td>\n",
       "      <td>5</td>\n",
       "      <td>4</td>\n",
       "      <td>0</td>\n",
       "      <td>0.0</td>\n",
       "      <td>satisfied</td>\n",
       "    </tr>\n",
       "    <tr>\n",
       "      <th>103901</th>\n",
       "      <td>103901</td>\n",
       "      <td>68825</td>\n",
       "      <td>Male</td>\n",
       "      <td>disloyal Customer</td>\n",
       "      <td>30</td>\n",
       "      <td>Business travel</td>\n",
       "      <td>Business</td>\n",
       "      <td>1995</td>\n",
       "      <td>1</td>\n",
       "      <td>1</td>\n",
       "      <td>...</td>\n",
       "      <td>4</td>\n",
       "      <td>3</td>\n",
       "      <td>2</td>\n",
       "      <td>4</td>\n",
       "      <td>5</td>\n",
       "      <td>5</td>\n",
       "      <td>4</td>\n",
       "      <td>7</td>\n",
       "      <td>14.0</td>\n",
       "      <td>neutral or dissatisfied</td>\n",
       "    </tr>\n",
       "    <tr>\n",
       "      <th>103902</th>\n",
       "      <td>103902</td>\n",
       "      <td>54173</td>\n",
       "      <td>Female</td>\n",
       "      <td>disloyal Customer</td>\n",
       "      <td>22</td>\n",
       "      <td>Business travel</td>\n",
       "      <td>Eco</td>\n",
       "      <td>1000</td>\n",
       "      <td>1</td>\n",
       "      <td>1</td>\n",
       "      <td>...</td>\n",
       "      <td>1</td>\n",
       "      <td>4</td>\n",
       "      <td>5</td>\n",
       "      <td>1</td>\n",
       "      <td>5</td>\n",
       "      <td>4</td>\n",
       "      <td>1</td>\n",
       "      <td>0</td>\n",
       "      <td>0.0</td>\n",
       "      <td>neutral or dissatisfied</td>\n",
       "    </tr>\n",
       "    <tr>\n",
       "      <th>103903</th>\n",
       "      <td>103903</td>\n",
       "      <td>62567</td>\n",
       "      <td>Male</td>\n",
       "      <td>Loyal Customer</td>\n",
       "      <td>27</td>\n",
       "      <td>Business travel</td>\n",
       "      <td>Business</td>\n",
       "      <td>1723</td>\n",
       "      <td>1</td>\n",
       "      <td>3</td>\n",
       "      <td>...</td>\n",
       "      <td>1</td>\n",
       "      <td>1</td>\n",
       "      <td>1</td>\n",
       "      <td>4</td>\n",
       "      <td>4</td>\n",
       "      <td>3</td>\n",
       "      <td>1</td>\n",
       "      <td>0</td>\n",
       "      <td>0.0</td>\n",
       "      <td>neutral or dissatisfied</td>\n",
       "    </tr>\n",
       "  </tbody>\n",
       "</table>\n",
       "<p>103904 rows × 25 columns</p>\n",
       "</div>"
      ],
      "text/plain": [
       "           _c0      id  Gender      Customer Type  Age   Type of Travel  \\\n",
       "0            0   70172    Male     Loyal Customer   13  Personal Travel   \n",
       "1            1    5047    Male  disloyal Customer   25  Business travel   \n",
       "2            2  110028  Female     Loyal Customer   26  Business travel   \n",
       "3            3   24026  Female     Loyal Customer   25  Business travel   \n",
       "4            4  119299    Male     Loyal Customer   61  Business travel   \n",
       "...        ...     ...     ...                ...  ...              ...   \n",
       "103899  103899   94171  Female  disloyal Customer   23  Business travel   \n",
       "103900  103900   73097    Male     Loyal Customer   49  Business travel   \n",
       "103901  103901   68825    Male  disloyal Customer   30  Business travel   \n",
       "103902  103902   54173  Female  disloyal Customer   22  Business travel   \n",
       "103903  103903   62567    Male     Loyal Customer   27  Business travel   \n",
       "\n",
       "           Class  Flight Distance  Inflight wifi service  \\\n",
       "0       Eco Plus              460                      3   \n",
       "1       Business              235                      3   \n",
       "2       Business             1142                      2   \n",
       "3       Business              562                      2   \n",
       "4       Business              214                      3   \n",
       "...          ...              ...                    ...   \n",
       "103899       Eco              192                      2   \n",
       "103900  Business             2347                      4   \n",
       "103901  Business             1995                      1   \n",
       "103902       Eco             1000                      1   \n",
       "103903  Business             1723                      1   \n",
       "\n",
       "        Departure/Arrival time convenient  ...  Inflight entertainment  \\\n",
       "0                                       4  ...                       5   \n",
       "1                                       2  ...                       1   \n",
       "2                                       2  ...                       5   \n",
       "3                                       5  ...                       2   \n",
       "4                                       3  ...                       3   \n",
       "...                                   ...  ...                     ...   \n",
       "103899                                  1  ...                       2   \n",
       "103900                                  4  ...                       5   \n",
       "103901                                  1  ...                       4   \n",
       "103902                                  1  ...                       1   \n",
       "103903                                  3  ...                       1   \n",
       "\n",
       "        On-board service  Leg room service  Baggage handling  Checkin service  \\\n",
       "0                      4                 3                 4                4   \n",
       "1                      1                 5                 3                1   \n",
       "2                      4                 3                 4                4   \n",
       "3                      2                 5                 3                1   \n",
       "4                      3                 4                 4                3   \n",
       "...                  ...               ...               ...              ...   \n",
       "103899                 3                 1                 4                2   \n",
       "103900                 5                 5                 5                5   \n",
       "103901                 3                 2                 4                5   \n",
       "103902                 4                 5                 1                5   \n",
       "103903                 1                 1                 4                4   \n",
       "\n",
       "        Inflight service  Cleanliness  Departure Delay in Minutes  \\\n",
       "0                      5            5                          25   \n",
       "1                      4            1                           1   \n",
       "2                      4            5                           0   \n",
       "3                      4            2                          11   \n",
       "4                      3            3                           0   \n",
       "...                  ...          ...                         ...   \n",
       "103899                 3            2                           3   \n",
       "103900                 5            4                           0   \n",
       "103901                 5            4                           7   \n",
       "103902                 4            1                           0   \n",
       "103903                 3            1                           0   \n",
       "\n",
       "        Arrival Delay in Minutes             satisfaction  \n",
       "0                           18.0  neutral or dissatisfied  \n",
       "1                            6.0  neutral or dissatisfied  \n",
       "2                            0.0                satisfied  \n",
       "3                            9.0  neutral or dissatisfied  \n",
       "4                            0.0                satisfied  \n",
       "...                          ...                      ...  \n",
       "103899                       0.0  neutral or dissatisfied  \n",
       "103900                       0.0                satisfied  \n",
       "103901                      14.0  neutral or dissatisfied  \n",
       "103902                       0.0  neutral or dissatisfied  \n",
       "103903                       0.0  neutral or dissatisfied  \n",
       "\n",
       "[103904 rows x 25 columns]"
      ]
     },
     "execution_count": 4,
     "metadata": {},
     "output_type": "execute_result"
    }
   ],
   "source": [
    "pandas_df = df.toPandas()\n",
    "\n",
    "# display the Pandas DataFrame\n",
    "pandas_df"
   ]
  },
  {
   "cell_type": "markdown",
   "id": "79817588-ec2b-48ce-8564-681220be0c7c",
   "metadata": {},
   "source": [
    "We can clearly see the strucutred data using Pandas DataFrame."
   ]
  },
  {
   "cell_type": "markdown",
   "id": "bcabc09c-3a50-4b7e-badc-6b3cb8d41378",
   "metadata": {},
   "source": [
    "## Data Description:"
   ]
  },
  {
   "cell_type": "code",
   "execution_count": 5,
   "id": "455a8b4b-eee2-44a2-81fc-1f838b6f4d1c",
   "metadata": {},
   "outputs": [
    {
     "name": "stdout",
     "output_type": "stream",
     "text": [
      "Length of DataFrame: 103904\n"
     ]
    }
   ],
   "source": [
    "# Get the length of the DataFrame\n",
    "length = df.count()\n",
    "\n",
    "# display the length\n",
    "print(\"Length of DataFrame:\", length)"
   ]
  },
  {
   "cell_type": "code",
   "execution_count": 6,
   "id": "dbf2db2a-3364-4850-8b4d-27eb2a34e698",
   "metadata": {},
   "outputs": [],
   "source": [
    "#We will create a Temperory View to utilize any of the SparkSQL logics for our data description or Further Analysis.\n",
    "\n",
    "df.createOrReplaceTempView(\"Air_Passengers_Satisfaction\")"
   ]
  },
  {
   "cell_type": "code",
   "execution_count": 7,
   "id": "68e8c55e-fee2-4055-8a9f-c640a61ce898",
   "metadata": {},
   "outputs": [
    {
     "name": "stdout",
     "output_type": "stream",
     "text": [
      "+--------------------+---------+-------+\n",
      "|            col_name|data_type|comment|\n",
      "+--------------------+---------+-------+\n",
      "|                 _c0|      int|   null|\n",
      "|                  id|      int|   null|\n",
      "|              Gender|   string|   null|\n",
      "|       Customer Type|   string|   null|\n",
      "|                 Age|      int|   null|\n",
      "|      Type of Travel|   string|   null|\n",
      "|               Class|   string|   null|\n",
      "|     Flight Distance|      int|   null|\n",
      "|Inflight wifi ser...|      int|   null|\n",
      "|Departure/Arrival...|      int|   null|\n",
      "|Ease of Online bo...|      int|   null|\n",
      "|       Gate location|      int|   null|\n",
      "|      Food and drink|      int|   null|\n",
      "|     Online boarding|      int|   null|\n",
      "|        Seat comfort|      int|   null|\n",
      "|Inflight entertai...|      int|   null|\n",
      "|    On-board service|      int|   null|\n",
      "|    Leg room service|      int|   null|\n",
      "|    Baggage handling|      int|   null|\n",
      "|     Checkin service|      int|   null|\n",
      "+--------------------+---------+-------+\n",
      "only showing top 20 rows\n",
      "\n"
     ]
    }
   ],
   "source": [
    "# Let us see the schema of our Air_Passengers_Satisfaction Data:\n",
    "\n",
    "spark.sql(\"DESCRIBE Air_Passengers_Satisfaction\").show()"
   ]
  },
  {
   "cell_type": "markdown",
   "id": "a0ee401e-49da-4b28-ad91-41439b8e04c6",
   "metadata": {},
   "source": [
    "So we got 4 string columns namely Gender, Customer Type, Type of Travel and Class which we will convert into Dummy Variables and Use in the Model Calculation."
   ]
  },
  {
   "cell_type": "code",
   "execution_count": 8,
   "id": "644cc594-fced-4bbe-8111-c21fd700b3e7",
   "metadata": {},
   "outputs": [
    {
     "name": "stdout",
     "output_type": "stream",
     "text": [
      "+--------------------+\n",
      "|        satisfaction|\n",
      "+--------------------+\n",
      "|neutral or dissat...|\n",
      "|           satisfied|\n",
      "+--------------------+\n",
      "\n"
     ]
    }
   ],
   "source": [
    "#Consider the output field 'Satisfaction':\n",
    "\n",
    "# Get the distinct values in the \"name\" column\n",
    "distinct_values = df.select(\"satisfaction\").distinct()\n",
    "\n",
    "# display the distinct values\n",
    "distinct_values.show()"
   ]
  },
  {
   "cell_type": "markdown",
   "id": "412b0746-72eb-49ce-8cf1-992e404d8bc6",
   "metadata": {},
   "source": [
    "We have two outcomes: 'Satisfied' and 'Neutral or Dissatisfied'. We will convert them into Binary Variables and design our classification Model to predict whether a Passenger is satisfied or not."
   ]
  },
  {
   "cell_type": "code",
   "execution_count": 9,
   "id": "cadbec35-89d6-4871-9493-dbba5f27ab30",
   "metadata": {},
   "outputs": [
    {
     "name": "stdout",
     "output_type": "stream",
     "text": [
      "+--------------------+-----+\n",
      "|        satisfaction|count|\n",
      "+--------------------+-----+\n",
      "|neutral or dissat...|58879|\n",
      "|           satisfied|45025|\n",
      "+--------------------+-----+\n",
      "\n"
     ]
    }
   ],
   "source": [
    "# Check for data imbalances:\n",
    "\n",
    "# Group by the \"satisfaction\" column and count the number of occurrences of each unique value\n",
    "satisfaction_counts = df.groupBy(\"satisfaction\").count()\n",
    "\n",
    "# display the result\n",
    "satisfaction_counts.show()"
   ]
  },
  {
   "cell_type": "markdown",
   "id": "0b5260b9-3143-430d-bef3-915af8289d24",
   "metadata": {},
   "source": [
    "We can clearly see that count in both classes is almost similar and hence we need not use any Sampling techniques to address the problem of Data Imbalance."
   ]
  },
  {
   "cell_type": "markdown",
   "id": "524bd936-1d50-4c0b-9397-d02a7e649520",
   "metadata": {},
   "source": [
    "## Data Preprocessing:"
   ]
  },
  {
   "cell_type": "code",
   "execution_count": 10,
   "id": "812fa00a-cdb3-41a8-95af-e40102ea54d2",
   "metadata": {},
   "outputs": [
    {
     "name": "stdout",
     "output_type": "stream",
     "text": [
      "+---+---+------+-------------+---+--------------+-----+---------------+---------------------+---------------------------------+----------------------+-------------+--------------+---------------+------------+----------------------+----------------+----------------+----------------+---------------+----------------+-----------+--------------------------+------------------------+------------+\n",
      "|_c0| id|Gender|Customer Type|Age|Type of Travel|Class|Flight Distance|Inflight wifi service|Departure/Arrival time convenient|Ease of Online booking|Gate location|Food and drink|Online boarding|Seat comfort|Inflight entertainment|On-board service|Leg room service|Baggage handling|Checkin service|Inflight service|Cleanliness|Departure Delay in Minutes|Arrival Delay in Minutes|satisfaction|\n",
      "+---+---+------+-------------+---+--------------+-----+---------------+---------------------+---------------------------------+----------------------+-------------+--------------+---------------+------------+----------------------+----------------+----------------+----------------+---------------+----------------+-----------+--------------------------+------------------------+------------+\n",
      "|  0|  0|     0|            0|  0|             0|    0|              0|                    0|                                0|                     0|            0|             0|              0|           0|                     0|               0|               0|               0|              0|               0|          0|                         0|                     310|           0|\n",
      "+---+---+------+-------------+---+--------------+-----+---------------+---------------------+---------------------------------+----------------------+-------------+--------------+---------------+------------+----------------------+----------------+----------------+----------------+---------------+----------------+-----------+--------------------------+------------------------+------------+\n",
      "\n"
     ]
    },
    {
     "name": "stderr",
     "output_type": "stream",
     "text": [
      "23/04/29 09:22:12 WARN CSVHeaderChecker: CSV header does not conform to the schema.\n",
      " Header: , id, Gender, Customer Type, Age, Type of Travel, Class, Flight Distance, Inflight wifi service, Departure/Arrival time convenient, Ease of Online booking, Gate location, Food and drink, Online boarding, Seat comfort, Inflight entertainment, On-board service, Leg room service, Baggage handling, Checkin service, Inflight service, Cleanliness, Departure Delay in Minutes, Arrival Delay in Minutes, satisfaction\n",
      " Schema: _c0, id, Gender, Customer Type, Age, Type of Travel, Class, Flight Distance, Inflight wifi service, Departure/Arrival time convenient, Ease of Online booking, Gate location, Food and drink, Online boarding, Seat comfort, Inflight entertainment, On-board service, Leg room service, Baggage handling, Checkin service, Inflight service, Cleanliness, Departure Delay in Minutes, Arrival Delay in Minutes, satisfaction\n",
      "Expected: _c0 but found: \n",
      "CSV file: file:///Users/ananthpadala/Downloads/train.csv\n"
     ]
    }
   ],
   "source": [
    "# Checking for Null Values:\n",
    "\n",
    "from pyspark.sql.functions import col, sum\n",
    "null_counts = df.select([sum(col(column).isNull().cast(\"int\")).alias(column) for column in df.columns])\n",
    "\n",
    "# display the counts of missing values for each column\n",
    "null_counts.show()"
   ]
  },
  {
   "cell_type": "markdown",
   "id": "69895aec-a194-4404-840b-d5a66dfbc417",
   "metadata": {},
   "source": [
    "We can only see null values in Arrival Delay in Minutes."
   ]
  },
  {
   "cell_type": "code",
   "execution_count": 11,
   "id": "71f481c0-d558-464b-bf05-60a98adb9e39",
   "metadata": {},
   "outputs": [
    {
     "name": "stdout",
     "output_type": "stream",
     "text": [
      "Number of null values in Arrival Delay in Minutes: 310\n"
     ]
    }
   ],
   "source": [
    "#Further Clarification:\n",
    "\n",
    "# count the number of missing values in Arrival Delay in Minutes\n",
    "null_count_col2 = df.filter(col(\"Arrival Delay in Minutes\").isNull()).count()\n",
    "\n",
    "# display the count of missing values in col2\n",
    "print(\"Number of null values in Arrival Delay in Minutes:\", null_count_col2)\n"
   ]
  },
  {
   "cell_type": "markdown",
   "id": "cb6bc95e-c42a-4242-a511-834166f635a3",
   "metadata": {},
   "source": [
    "Now we will fill this null values with 'Mean of the Arrival Delay in Minutes' Column"
   ]
  },
  {
   "cell_type": "code",
   "execution_count": 12,
   "id": "b0ad479c-a47e-4699-b6d1-c0eb2145a594",
   "metadata": {},
   "outputs": [],
   "source": [
    "from pyspark.sql.functions import mean\n",
    "\n",
    "# calculate the mean of non-null values in Arrival Delay in Minutes\n",
    "mean_delay = df.select(mean(col(\"Arrival Delay in Minutes\"))).collect()[0][0]\n",
    "\n",
    "# replace missing values with mean\n",
    "df = df.fillna(mean_delay, subset=[\"Arrival Delay in Minutes\"])\n"
   ]
  },
  {
   "cell_type": "markdown",
   "id": "7b571f2f-4e21-49ed-aa11-a122e5b4b232",
   "metadata": {},
   "source": [
    "We have successfully filled the missing values with Mean of other values."
   ]
  },
  {
   "cell_type": "markdown",
   "id": "1d1f1b5a-752f-4d04-8200-58826aefd71c",
   "metadata": {},
   "source": [
    "Encoding Categorical Variables:"
   ]
  },
  {
   "cell_type": "markdown",
   "id": "c748a9c3-024c-42d9-b5cc-cc33fb714c74",
   "metadata": {},
   "source": [
    "First we will enocode the dependent column 'Satisfaction'"
   ]
  },
  {
   "cell_type": "code",
   "execution_count": 13,
   "id": "8362e882-fbc8-4ccd-96d1-3c79624dbf38",
   "metadata": {},
   "outputs": [],
   "source": [
    "from pyspark.ml.feature import StringIndexer\n",
    "\n",
    "# create a StringIndexer instance and set its input and output columns\n",
    "indexer = StringIndexer(inputCol=\"satisfaction\", outputCol=\"SatisfactionIndex\")\n",
    "\n",
    "# fit the StringIndexer instance to the data and transform the data\n",
    "df = indexer.fit(df).transform(df)\n"
   ]
  },
  {
   "cell_type": "markdown",
   "id": "19bafdb0-672e-4c8d-acae-a4f0155bd0e1",
   "metadata": {},
   "source": [
    "Now we will encode input Categorical Variables as well"
   ]
  },
  {
   "cell_type": "code",
   "execution_count": 14,
   "id": "40bce85a-0192-4e09-8a10-3cb6cc087bde",
   "metadata": {},
   "outputs": [],
   "source": [
    "from pyspark.ml.feature import StringIndexer\n",
    "\n",
    "# create a list of the categorical column names\n",
    "cat_cols = [\"Gender\", \"Customer Type\", \"Type of Travel\", \"Class\"]\n",
    "\n",
    "# create a loop to perform StringIndexer on each categorical column\n",
    "for col in cat_cols:\n",
    "    # create a StringIndexer instance and set its input and output columns\n",
    "    indexer = StringIndexer(inputCol=col, outputCol=col+\"_index\")\n",
    "    # fit the StringIndexer instance to the data and transform the data\n",
    "    df = indexer.fit(df).transform(df)\n"
   ]
  },
  {
   "cell_type": "markdown",
   "id": "857555ef-c9c1-402c-b811-b488ccab368f",
   "metadata": {},
   "source": [
    "We have created Encoded columns for all the Categorical Variable columns."
   ]
  },
  {
   "cell_type": "markdown",
   "id": "906534fb-7230-49b9-be1a-fe77137ce81e",
   "metadata": {},
   "source": [
    "Removal of Unwanted Columns:"
   ]
  },
  {
   "cell_type": "markdown",
   "id": "0610b2ba-8c73-4ba4-9ed2-ef53ade9fa16",
   "metadata": {},
   "source": [
    "We will now remove all the unwanted columns in the DataFrame:"
   ]
  },
  {
   "cell_type": "code",
   "execution_count": 15,
   "id": "5630f787-9134-4f86-bef1-733093159de7",
   "metadata": {},
   "outputs": [],
   "source": [
    "# Dropping the original categorical columns from df and also id column.\n",
    "df_a = df.drop(\"id\",\"Gender\", \"Customer Type\", \"Type of Travel\", \"Class\",\"satisfaction\")"
   ]
  },
  {
   "cell_type": "code",
   "execution_count": 16,
   "id": "2480cc91-e138-4502-8b69-982f1bb7b762",
   "metadata": {},
   "outputs": [],
   "source": [
    "# drop the first column of df by index (since index column)\n",
    "df_a = df_a.drop(df.columns[0])"
   ]
  },
  {
   "cell_type": "markdown",
   "id": "4538a756-54ac-4c2e-a015-3fcaa826e71d",
   "metadata": {},
   "source": [
    "We have already checked for data imbalance and there is no such issue. Furthermore our data consists of Ratings of Several Passengers on a scale of 5, so we need not standardize the columns as well. "
   ]
  },
  {
   "cell_type": "markdown",
   "id": "4d9c9369-3c2e-4939-8010-dd5fcfe227bc",
   "metadata": {},
   "source": [
    "Splitting the Data into Training and Testing Dataset."
   ]
  },
  {
   "cell_type": "code",
   "execution_count": 17,
   "id": "72da191c-ec2b-4148-8143-54599f29fb9e",
   "metadata": {},
   "outputs": [],
   "source": [
    "# Split the data into training and test sets (70/30 split)\n",
    "train_df_a, test_df_a = df_a.randomSplit([0.7, 0.3], seed=42)"
   ]
  },
  {
   "cell_type": "markdown",
   "id": "819a0cbe-ac5a-4a93-a4b8-e8c9b7514e1d",
   "metadata": {},
   "source": [
    "Therefore our data preprocessing is completed and we will proceed with designing Classification Models."
   ]
  },
  {
   "cell_type": "markdown",
   "id": "49ee7223-a430-4571-ac89-4201c1924f54",
   "metadata": {},
   "source": [
    "# Classification Models:"
   ]
  },
  {
   "cell_type": "markdown",
   "id": "0a5bcc21-263f-4895-9ef6-dcdd34aaae4d",
   "metadata": {},
   "source": [
    "We will concentrate on enhancing the Recall score. A false negative occurs when the model predicts a person as \"satisfied\" when they are actually \"dissatisfied\". This is a serious problem because it means that the person is not being identified as dissatisfied and may not receive the necessary attention or support.Recall measures the percentage of true positives (i.e., correctly classified dissatisfied people) that the model correctly identified as such. The higher the recall, the better the model is at identifying dissatisfied people."
   ]
  },
  {
   "cell_type": "markdown",
   "id": "3dc8b594-b19a-422b-95a3-48898e51ccc6",
   "metadata": {},
   "source": [
    "# 1.Logistic Regression"
   ]
  },
  {
   "cell_type": "code",
   "execution_count": 18,
   "id": "18f17287-8be4-4cb5-8ca4-716b62c5abc0",
   "metadata": {},
   "outputs": [
    {
     "name": "stderr",
     "output_type": "stream",
     "text": [
      "23/04/29 09:22:27 WARN InstanceBuilder: Failed to load implementation from:dev.ludovic.netlib.blas.JNIBLAS\n"
     ]
    },
    {
     "name": "stdout",
     "output_type": "stream",
     "text": [
      "Weighted recall: 0.8757487922705314\n"
     ]
    }
   ],
   "source": [
    "from pyspark.ml.classification import LogisticRegression\n",
    "from pyspark.ml.feature import StringIndexer, VectorAssembler\n",
    "from pyspark.ml.evaluation import MulticlassClassificationEvaluator\n",
    "\n",
    "# Define input and output columns\n",
    "input_cols = ['Age', 'Flight Distance', 'Inflight wifi service', 'Departure/Arrival time convenient', \n",
    "              'Ease of Online booking', 'Gate location', 'Food and drink', 'Online boarding', 'Seat comfort', \n",
    "              'Inflight entertainment', 'On-board service', 'Leg room service', 'Baggage handling', \n",
    "              'Checkin service', 'Inflight service', 'Cleanliness', 'Departure Delay in Minutes', \n",
    "              'Arrival Delay in Minutes', 'Gender_index', 'Customer Type_index', 'Type of Travel_index', \n",
    "              'Class_index']\n",
    "output_col = 'SatisfactionIndex'\n",
    "\n",
    "# VectorAssembler to combine the features\n",
    "assembler = VectorAssembler(inputCols=input_cols, outputCol=\"features\")\n",
    "\n",
    "# Fit logistic regression model on train data\n",
    "lr = LogisticRegression(labelCol=output_col, featuresCol=\"features\")\n",
    "lr_model = lr.fit(assembler.transform(train_df_a))\n",
    "\n",
    "# Get predictions on test data\n",
    "predictions = lr_model.transform(assembler.transform(test_df_a))\n",
    "\n",
    "# Evaluate the model on test data\n",
    "evaluator = MulticlassClassificationEvaluator(labelCol=output_col, metricName='weightedRecall')\n",
    "recall = evaluator.evaluate(predictions)\n",
    "print(f\"Weighted recall: {recall}\")\n"
   ]
  },
  {
   "cell_type": "markdown",
   "id": "98f937c9-54bf-46b6-ab71-341d26a034d4",
   "metadata": {},
   "source": [
    "# 2.Support Vector Machine:"
   ]
  },
  {
   "cell_type": "code",
   "execution_count": 19,
   "id": "c7c2aea8-a9fa-4dce-ae0e-f98f4ff02636",
   "metadata": {},
   "outputs": [
    {
     "name": "stdout",
     "output_type": "stream",
     "text": [
      "Weighted recall on validation data: 0.8745291219936251\n"
     ]
    }
   ],
   "source": [
    "from pyspark.ml.classification import LinearSVC\n",
    "from pyspark.ml.evaluation import MulticlassClassificationEvaluator\n",
    "\n",
    "# Define the input and output column names\n",
    "input_cols = [col for col in df_a.columns if col != \"SatisfactionIndex\"]\n",
    "output_col = \"SatisfactionIndex\"\n",
    "\n",
    "# Vectorize the input columns\n",
    "assembler = VectorAssembler(inputCols=input_cols, outputCol=\"features\")\n",
    "train_data = assembler.transform(df_a).select(\"features\", output_col)\n",
    "\n",
    "# Split the data into training and validation sets\n",
    "(training_data, validation_data) = train_data.randomSplit([0.8, 0.2], seed=42)\n",
    "\n",
    "# Train an SVM classifier\n",
    "svm = LinearSVC(labelCol=output_col, featuresCol=\"features\", maxIter=10, regParam=0.1)\n",
    "svm_model = svm.fit(training_data)\n",
    "\n",
    "# Make predictions on validation data and evaluate the model\n",
    "validation_predictions = svm_model.transform(validation_data)\n",
    "evaluator = MulticlassClassificationEvaluator(labelCol=output_col, predictionCol=\"prediction\", metricName=\"weightedRecall\")\n",
    "recall = evaluator.evaluate(validation_predictions)\n",
    "print(f\"Weighted recall on validation data: {recall}\")\n"
   ]
  },
  {
   "cell_type": "markdown",
   "id": "0343c3b2-5738-4eb1-b491-7643bcff068f",
   "metadata": {},
   "source": [
    "# 3.Decision Tree Classifier:"
   ]
  },
  {
   "cell_type": "code",
   "execution_count": 20,
   "id": "7435a49c-5cdc-454e-ae84-251d511dc7eb",
   "metadata": {},
   "outputs": [
    {
     "name": "stdout",
     "output_type": "stream",
     "text": [
      "Weighted recall on validation data: 0.905196561383174\n"
     ]
    }
   ],
   "source": [
    "from pyspark.ml.classification import DecisionTreeClassifier\n",
    "from pyspark.ml.evaluation import MulticlassClassificationEvaluator\n",
    "\n",
    "# Define the input and output column names\n",
    "input_cols = [col for col in df_a.columns if col != \"SatisfactionIndex\"]\n",
    "output_col = \"SatisfactionIndex\"\n",
    "\n",
    "# Vectorize the input columns\n",
    "assembler = VectorAssembler(inputCols=input_cols, outputCol=\"features\")\n",
    "train_data = assembler.transform(df_a).select(\"features\", output_col)\n",
    "\n",
    "# Split the data into training and validation sets\n",
    "(training_data, validation_data) = train_data.randomSplit([0.8, 0.2], seed=42)\n",
    "\n",
    "# Train a decision tree classifier\n",
    "dt = DecisionTreeClassifier(labelCol=output_col, featuresCol=\"features\")\n",
    "dt_model = dt.fit(training_data)\n",
    "\n",
    "# Make predictions on validation data and evaluate the model\n",
    "validation_predictions = dt_model.transform(validation_data)\n",
    "evaluator = MulticlassClassificationEvaluator(labelCol=output_col, predictionCol=\"prediction\", metricName=\"weightedRecall\")\n",
    "recall = evaluator.evaluate(validation_predictions)\n",
    "print(f\"Weighted recall on validation data: {recall}\")\n"
   ]
  },
  {
   "cell_type": "markdown",
   "id": "4c63de90-67a4-4fea-9aff-c79b2e73a1c2",
   "metadata": {},
   "source": [
    "# 4.Random Forest Classifier:"
   ]
  },
  {
   "cell_type": "code",
   "execution_count": 21,
   "id": "222e25a9-48ea-4950-947e-c31a3823d832",
   "metadata": {},
   "outputs": [
    {
     "name": "stdout",
     "output_type": "stream",
     "text": [
      "Recall = 0.919581\n"
     ]
    }
   ],
   "source": [
    "from pyspark.ml.feature import VectorAssembler\n",
    "from pyspark.ml.classification import RandomForestClassifier\n",
    "from pyspark.ml.evaluation import MulticlassClassificationEvaluator\n",
    "\n",
    "# create a vector assembler to combine all input features into a single vector column\n",
    "assembler = VectorAssembler(inputCols=[\"Age\", \"Flight Distance\", \"Inflight wifi service\", \"Departure/Arrival time convenient\", \n",
    "                                       \"Ease of Online booking\", \"Gate location\", \"Food and drink\", \"Online boarding\", \n",
    "                                       \"Seat comfort\", \"Inflight entertainment\", \"On-board service\", \"Leg room service\", \n",
    "                                       \"Baggage handling\", \"Checkin service\", \"Inflight service\", \"Cleanliness\", \n",
    "                                       \"Departure Delay in Minutes\", \"Gender_index\", \"Customer Type_index\", \n",
    "                                       \"Type of Travel_index\", \"Class_index\"], outputCol=\"features_rf\")\n",
    "\n",
    "# transform the training and testing data frames using the vector assembler\n",
    "train_df_a = assembler.transform(train_df_a)\n",
    "test_df_a = assembler.transform(test_df_a)\n",
    "\n",
    "# create a Random Forest Classifier object\n",
    "rf = RandomForestClassifier(labelCol=\"SatisfactionIndex\", featuresCol=\"features_rf\")\n",
    "\n",
    "# train the model on the training data\n",
    "rf_model = rf.fit(train_df_a)\n",
    "\n",
    "# make predictions on the test data\n",
    "rf_predictions = rf_model.transform(test_df_a)\n",
    "\n",
    "# create a MulticlassClassificationEvaluator object with the metricName parameter set to 'weightedRecall'\n",
    "evaluator = MulticlassClassificationEvaluator(labelCol=\"SatisfactionIndex\", predictionCol=\"prediction\", metricName=\"weightedRecall\")\n",
    "\n",
    "# compute the recall score for the Random Forest model on the test data\n",
    "rf_recall = evaluator.evaluate(rf_predictions)\n",
    "print(\"Recall = %g\" % rf_recall)\n"
   ]
  },
  {
   "cell_type": "markdown",
   "id": "8590e4a0-82ff-4f4b-a783-8945727b9b73",
   "metadata": {},
   "source": [
    "## 5.Gradient-Boosted Tree Classifier:"
   ]
  },
  {
   "cell_type": "code",
   "execution_count": 22,
   "id": "28810e44-c0cc-49d9-9489-f601e2741986",
   "metadata": {},
   "outputs": [
    {
     "name": "stdout",
     "output_type": "stream",
     "text": [
      "Weighted recall on validation data: 0.9024437361151357\n"
     ]
    }
   ],
   "source": [
    "from pyspark.ml.classification import GBTClassifier\n",
    "from pyspark.ml.evaluation import MulticlassClassificationEvaluator\n",
    "\n",
    "# Define the input and output column names\n",
    "input_cols = [col for col in df_a.columns if col != \"SatisfactionIndex\"]\n",
    "output_col = \"SatisfactionIndex\"\n",
    "\n",
    "# Vectorize the input columns\n",
    "assembler = VectorAssembler(inputCols=input_cols, outputCol=\"features\")\n",
    "train_data = assembler.transform(df_a).select(\"features\", output_col)\n",
    "\n",
    "# Split the data into training and validation sets\n",
    "(training_data, validation_data) = train_data.randomSplit([0.8, 0.2], seed=42)\n",
    "\n",
    "# Train a gradient-boosted tree classifier\n",
    "gbt = GBTClassifier(labelCol=output_col, featuresCol=\"features\", maxIter=10, maxDepth=3)\n",
    "gbt_model = gbt.fit(training_data)\n",
    "\n",
    "# Make predictions on validation data and evaluate the model\n",
    "validation_predictions = gbt_model.transform(validation_data)\n",
    "evaluator = MulticlassClassificationEvaluator(labelCol=output_col, predictionCol=\"prediction\", metricName=\"weightedRecall\")\n",
    "recall = evaluator.evaluate(validation_predictions)\n",
    "print(f\"Weighted recall on validation data: {recall}\")\n"
   ]
  },
  {
   "cell_type": "markdown",
   "id": "41958b7a-80fb-4422-96be-ec0b727656ba",
   "metadata": {},
   "source": [
    "## 6.Naive Bayes Classifier:"
   ]
  },
  {
   "cell_type": "code",
   "execution_count": 23,
   "id": "afc68dc5-b782-43ce-94ec-283c61e9decb",
   "metadata": {},
   "outputs": [
    {
     "name": "stderr",
     "output_type": "stream",
     "text": [
      "23/04/29 09:22:59 WARN package: Truncated the string representation of a plan since it was too large. This behavior can be adjusted by setting 'spark.sql.debug.maxToStringFields'.\n"
     ]
    },
    {
     "name": "stdout",
     "output_type": "stream",
     "text": [
      "Weighted recall on validation data: 0.6059113300492611\n"
     ]
    }
   ],
   "source": [
    "from pyspark.ml.classification import NaiveBayes\n",
    "from pyspark.ml.evaluation import MulticlassClassificationEvaluator\n",
    "\n",
    "# Define the input and output column names\n",
    "input_cols = [col for col in df_a.columns if col != \"SatisfactionIndex\"]\n",
    "output_col = \"SatisfactionIndex\"\n",
    "\n",
    "# Vectorize the input columns\n",
    "assembler = VectorAssembler(inputCols=input_cols, outputCol=\"features\")\n",
    "train_data = assembler.transform(df_a).select(\"features\", output_col)\n",
    "\n",
    "# Split the data into training and validation sets\n",
    "(training_data, validation_data) = train_data.randomSplit([0.8, 0.2], seed=42)\n",
    "\n",
    "# Train a Naive Bayes classifier\n",
    "nb = NaiveBayes(labelCol=output_col, featuresCol=\"features\")\n",
    "nb_model = nb.fit(training_data)\n",
    "\n",
    "# Make predictions on validation data and evaluate the model\n",
    "validation_predictions = nb_model.transform(validation_data)\n",
    "evaluator = MulticlassClassificationEvaluator(labelCol=output_col, predictionCol=\"prediction\", metricName=\"weightedRecall\")\n",
    "recall = evaluator.evaluate(validation_predictions)\n",
    "print(f\"Weighted recall on validation data: {recall}\")\n"
   ]
  },
  {
   "cell_type": "markdown",
   "id": "51cb32cc-08fe-4172-a434-007c3af058f9",
   "metadata": {},
   "source": [
    "## Outcomes:"
   ]
  },
  {
   "cell_type": "markdown",
   "id": "5656b2b3-df33-4813-983f-3972fe41e788",
   "metadata": {},
   "source": [
    "Comparison of Recall Scores of All the Models:"
   ]
  },
  {
   "cell_type": "code",
   "execution_count": 24,
   "id": "744a9d58-e4d9-420f-bac5-43f874b8cd68",
   "metadata": {},
   "outputs": [
    {
     "data": {
      "image/png": "[encoded data removed]",
      "text/plain": [
       "<Figure size 640x480 with 1 Axes>"
      ]
     },
     "metadata": {},
     "output_type": "display_data"
    }
   ],
   "source": [
    "import matplotlib.pyplot as plt\n",
    "\n",
    "# Define the recall scores for each model\n",
    "lr_recall = 0.875\n",
    "svm_recall = 0.874\n",
    "dt_recall = 0.905\n",
    "rf_recall = 0.923\n",
    "gbt_recall = 0.902\n",
    "nb_recall = 0.605\n",
    "\n",
    "# Create a bar chart to compare recall scores\n",
    "fig, ax = plt.subplots()\n",
    "ax.bar(['LR','SVM','DT','RF', 'GBT', 'NB'], [lr_recall, svm_recall, dt_recall, rf_recall, gbt_recall, nb_recall])\n",
    "ax.set_ylabel('Recall Score')\n",
    "ax.set_title('Comparison of Classification Models')\n",
    "\n",
    "# Set the y-axis tick values\n",
    "ax.set_yticks([0.1, 0.2, 0.3, 0.4, 0.5, 0.6, 0.7, 0.8, 0.9, 1.0])\n",
    "\n",
    "plt.show()\n"
   ]
  },
  {
   "cell_type": "markdown",
   "id": "b42f8e6d-4509-4ecc-9403-9a94706bedaa",
   "metadata": {},
   "source": [
    "We can see that Random Forest Classifier performed the best and Naive Bayes performed the worst on our data set. With this we can solve the business problem of finding the dissatisfied people and then concentrate on improving the services which passengers expect inturn improving the ROI, cost cutting and establish good will inorder to stay in the competent airline business."
   ]
  },
  {
   "cell_type": "markdown",
   "id": "c23bf5e3-5947-48a3-8aa9-8cca9b64f7ae",
   "metadata": {},
   "source": [
    "## Summary"
   ]
  },
  {
   "cell_type": "markdown",
   "id": "9397ced6-6d52-4e46-a10a-d5245390e53e",
   "metadata": {},
   "source": [
    "Finally, we have  completed the project and have a model that can accurately classify the satisfaction of air passengers with a high recall score.Through the process, We have collected a dataset of customer reviews from various airlines and pre-processed the data by removing noise and irrelevant information and then developed multiple classification models using different techniques and calculated the recall score for each model. We have focused on improving the recall score as it is important to correctly identify dissatisfied people who may require necessary attention or support. This project has finally helped us understanding and designing a model to solve the business problems through Big Data Analytics. "
   ]
  }
 ],
 "metadata": {
  "kernelspec": {
   "display_name": "Python 3 (ipykernel)",
   "language": "python",
   "name": "python3"
  },
  "language_info": {
   "codemirror_mode": {
    "name": "ipython",
    "version": 3
   },
   "file_extension": ".py",
   "mimetype": "text/x-python",
   "name": "python",
   "nbconvert_exporter": "python",
   "pygments_lexer": "ipython3",
   "version": "3.10.9"
  }
 },
 "nbformat": 4,
 "nbformat_minor": 5
}
